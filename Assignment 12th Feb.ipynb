{
 "cells": [
  {
   "cell_type": "code",
   "execution_count": null,
   "id": "996ed360-27f7-42cc-8bb3-fe2114447e56",
   "metadata": {},
   "outputs": [],
   "source": [
    "Q1. What is an Exception in python? write the difference between Exceptions and syntax errors.\n",
    "\n",
    "Ans-\n",
    "\n",
    "In Python, an exception is an event that occurs during the execution of a program that disrupts the normal flow of the program's instructions. \n",
    "When an exception occurs, the program terminates abnormally and displays an error message.\n",
    "Exceptions are typically caused by errors in the program's logic or environment, such as trying to divide by zero, accessing a variable that has not been defined, or trying to open a file that does not exist. \n",
    "Python provides a number of built-in exception classes for handling these types of errors, as well as the ability to define custom exception classes.\n",
    "\n",
    "Syntax errors, on the other hand, are errors that occur when the program's syntax (i.e., the structure of the program) is incorrect. \n",
    "Syntax errors are detected by the Python interpreter before the program is executed and typically result in a syntax error message.\n",
    "\n",
    "Here are some differences between Exceptions and Syntax errors in Python:\n",
    "\n",
    "Cause: \n",
    "Exceptions are caused by errors in the program's logic or environment, while syntax errors are caused by errors in the program's syntax.\n",
    "\n",
    "Timing: \n",
    "Exceptions occur during the execution of a program, while syntax errors are detected by the Python interpreter before the program is executed.\n",
    "\n",
    "Handling: \n",
    "Exceptions can be handled using try-except blocks or other exception-handling mechanisms, while syntax errors cannot be handled in this way. \n",
    "Syntax errors must be fixed by correcting the syntax of the program.\n",
    "\n",
    "Message: \n",
    "Exceptions display an error message that describes the exception and its cause, while syntax errors display a syntax error message that identifies the location of the error in the program."
   ]
  },
  {
   "cell_type": "code",
   "execution_count": null,
   "id": "c203dd95-9713-44b1-a944-58c5f8ff6c0c",
   "metadata": {},
   "outputs": [],
   "source": [
    "Q2.What happens when an exception is not handled? Explain with an example.\n",
    "\n",
    "Ans-\n",
    "As discussed in the answr of first question that when an exception is not handled in a Python program, the program will terminate abnormally and display an error message. \n",
    "This can cause the program to crash or behave unexpectedly, as the code that follows the line where the exception occurred may not be executed."
   ]
  },
  {
   "cell_type": "code",
   "execution_count": 1,
   "id": "dd81fd70-b566-4672-bee3-1b825ce41fac",
   "metadata": {},
   "outputs": [
    {
     "ename": "ZeroDivisionError",
     "evalue": "division by zero",
     "output_type": "error",
     "traceback": [
      "\u001b[0;31m---------------------------------------------------------------------------\u001b[0m",
      "\u001b[0;31mZeroDivisionError\u001b[0m                         Traceback (most recent call last)",
      "Cell \u001b[0;32mIn[1], line 6\u001b[0m\n\u001b[1;32m      3\u001b[0m \u001b[38;5;28;01mdef\u001b[39;00m \u001b[38;5;21mdivide\u001b[39m(x, y):\n\u001b[1;32m      4\u001b[0m     \u001b[38;5;28;01mreturn\u001b[39;00m x \u001b[38;5;241m/\u001b[39m y\n\u001b[0;32m----> 6\u001b[0m result \u001b[38;5;241m=\u001b[39m \u001b[43mdivide\u001b[49m\u001b[43m(\u001b[49m\u001b[38;5;241;43m10\u001b[39;49m\u001b[43m,\u001b[49m\u001b[43m \u001b[49m\u001b[38;5;241;43m0\u001b[39;49m\u001b[43m)\u001b[49m\n\u001b[1;32m      8\u001b[0m \u001b[38;5;66;03m#In this example, the divide() function attempts to divide the value x by the value y. \u001b[39;00m\n\u001b[1;32m      9\u001b[0m \u001b[38;5;66;03m#If y is zero, a ZeroDivisionError exception will be raised.\u001b[39;00m\n",
      "Cell \u001b[0;32mIn[1], line 4\u001b[0m, in \u001b[0;36mdivide\u001b[0;34m(x, y)\u001b[0m\n\u001b[1;32m      3\u001b[0m \u001b[38;5;28;01mdef\u001b[39;00m \u001b[38;5;21mdivide\u001b[39m(x, y):\n\u001b[0;32m----> 4\u001b[0m     \u001b[38;5;28;01mreturn\u001b[39;00m \u001b[43mx\u001b[49m\u001b[43m \u001b[49m\u001b[38;5;241;43m/\u001b[39;49m\u001b[43m \u001b[49m\u001b[43my\u001b[49m\n",
      "\u001b[0;31mZeroDivisionError\u001b[0m: division by zero"
     ]
    }
   ],
   "source": [
    "#Example of what happens when an exception is not handled:\n",
    "\n",
    "def divide(x, y):\n",
    "    return x / y\n",
    "\n",
    "result = divide(10, 0)\n",
    "\n",
    "#In this example, the divide() function attempts to divide the value x by the value y. \n",
    "#If y is zero, a ZeroDivisionError exception will be raised."
   ]
  },
  {
   "cell_type": "code",
   "execution_count": 2,
   "id": "57ad8210-802b-4a5e-8f6c-83a01da976cc",
   "metadata": {},
   "outputs": [
    {
     "name": "stdout",
     "output_type": "stream",
     "text": [
      "Error: Cannot divide by zero\n"
     ]
    }
   ],
   "source": [
    "#Example of how to handle the ZeroDivisionError exception:\n",
    "\n",
    "def divide(x, y):\n",
    "    try:\n",
    "        return x / y\n",
    "    except ZeroDivisionError:\n",
    "        print(\"Error: Cannot divide by zero\")\n",
    "        return None\n",
    "\n",
    "result = divide(10, 0)\n"
   ]
  },
  {
   "cell_type": "code",
   "execution_count": null,
   "id": "80c08b9e-fc25-4309-8439-8346483354f1",
   "metadata": {},
   "outputs": [],
   "source": [
    "Q3. Which python statements are used to catch and handle exceptions? Explain with an example.\n",
    "\n",
    "Ans-\n",
    "\n",
    "To catch and handle exceptions in Python, we use a try-except block. \n",
    "The try block contains the code that may raise an exception, while the except block contains the code that will handle the exception if it occurs.\n",
    "\n",
    "#Basic syntax of a try-except block:\n",
    "\n",
    "try:\n",
    "    # code that may raise an exception\n",
    "except ExceptionType:\n",
    "    # code that handles the exception\n"
   ]
  },
  {
   "cell_type": "code",
   "execution_count": 4,
   "id": "6d0f02b1-df97-4dc8-9e22-24683699b6e6",
   "metadata": {},
   "outputs": [
    {
     "name": "stdin",
     "output_type": "stream",
     "text": [
      "Enter a number:  -2\n"
     ]
    },
    {
     "name": "stdout",
     "output_type": "stream",
     "text": [
      "Error: Number must be positive\n",
      "Number: None\n"
     ]
    }
   ],
   "source": [
    "#Example using the ValueError exception:\n",
    "\n",
    "try:\n",
    "    num = int(input(\"Enter a number: \"))\n",
    "    if num < 0:\n",
    "        raise ValueError(\"Number must be positive\")\n",
    "except ValueError as e:\n",
    "    print(\"Error:\", e)\n",
    "    num = None\n",
    "\n",
    "print(\"Number:\", num)\n"
   ]
  },
  {
   "cell_type": "code",
   "execution_count": null,
   "id": "3a991fda-6169-422c-90c9-ae1d2472de77",
   "metadata": {},
   "outputs": [],
   "source": [
    "In this example, the try block attempts to read an integer from the user using the input() function. \n",
    "If the user enters a negative number, the code raises a ValueError exception with a custom error message.\n",
    "\n",
    "The except block catches the ValueError exception and prints the error message to the console. \n",
    "It also sets the value of num to None, indicating that an error occurred."
   ]
  },
  {
   "cell_type": "code",
   "execution_count": null,
   "id": "a6863125-b097-4e7f-b83f-3db4c6981fbb",
   "metadata": {},
   "outputs": [],
   "source": [
    "Explain with an Example:\n",
    "a. try and else\n",
    "b. finally\n",
    "c. raise"
   ]
  },
  {
   "cell_type": "code",
   "execution_count": 7,
   "id": "50194b1f-2258-4539-af31-46d0bd79ed4d",
   "metadata": {},
   "outputs": [
    {
     "name": "stdin",
     "output_type": "stream",
     "text": [
      "Enter the first number:  5\n",
      "Enter the second number:  2\n"
     ]
    },
    {
     "name": "stdout",
     "output_type": "stream",
     "text": [
      "Result is: 2.5\n"
     ]
    }
   ],
   "source": [
    "#a.try and else\n",
    "\"\"\"try and else are control flow statements used in Python to handle errors that may occur during program execution. \n",
    "The try block contains the code that may raise an exception. If an exception is raised, the code execution is transferred to the except block. \n",
    "However, if no exception is raised, the code in the else block is executed.\"\"\"\n",
    "\n",
    "#Here is an example that demonstrates the usage of try and else:\n",
    "\n",
    "try:\n",
    "    num1 = int(input(\"Enter the first number: \"))\n",
    "    num2 = int(input(\"Enter the second number: \"))\n",
    "    result = num1 / num2\n",
    "except ValueError:\n",
    "    print(\"Please enter valid numbers\")\n",
    "except ZeroDivisionError:\n",
    "    print(\"Cannot divide by zero\")\n",
    "else:\n",
    "    print(\"Result is:\", result)\n",
    "\n",
    "\n",
    "    \"\"\"In this example, the user is prompted to enter two numbers. If the user enters an invalid input, a ValueError exception is raised, and the corresponding error message is displayed.  \n",
    "    Similarly, if the user tries to divide by zero, a ZeroDivisionError exception is raised. However, if the inputs are valid, the result of the division is displayed.\"\"\""
   ]
  },
  {
   "cell_type": "code",
   "execution_count": 8,
   "id": "4eaee915-b8f7-4d9e-8164-8b76315516f4",
   "metadata": {},
   "outputs": [],
   "source": [
    "#b. finally\n",
    "\n",
    "\"\"\"finally is another control flow statement in Python that is used to define a block of code that is always executed, whether an exception is raised or not. \n",
    "This is useful for releasing resources or cleaning up after a block of code.\"\"\"\n",
    "\n",
    "#Here is an example that demonstrates the usage of finally:\n",
    "\n",
    "try:\n",
    "    f = open(\"example.txt\", \"r\")\n",
    "    # Perform some operations on the file\n",
    "finally:\n",
    "    f.close()\n",
    "\n",
    "    \"\"\"In this example, a file named example.txt is opened in read-only mode, and some operations are performed on it. The finally block ensures that the file is closed, regardless of whether an exception was raised or not.\"\"\""
   ]
  },
  {
   "cell_type": "code",
   "execution_count": 9,
   "id": "c540882a-e82c-4358-9e1b-0927c3a080dc",
   "metadata": {},
   "outputs": [
    {
     "ename": "ValueError",
     "evalue": "Age cannot be negative",
     "output_type": "error",
     "traceback": [
      "\u001b[0;31m---------------------------------------------------------------------------\u001b[0m",
      "\u001b[0;31mValueError\u001b[0m                                Traceback (most recent call last)",
      "Cell \u001b[0;32mIn[9], line 11\u001b[0m\n\u001b[1;32m      9\u001b[0m age \u001b[38;5;241m=\u001b[39m \u001b[38;5;241m-\u001b[39m\u001b[38;5;241m5\u001b[39m\n\u001b[1;32m     10\u001b[0m \u001b[38;5;28;01mif\u001b[39;00m age \u001b[38;5;241m<\u001b[39m \u001b[38;5;241m0\u001b[39m:\n\u001b[0;32m---> 11\u001b[0m     \u001b[38;5;28;01mraise\u001b[39;00m \u001b[38;5;167;01mValueError\u001b[39;00m(\u001b[38;5;124m\"\u001b[39m\u001b[38;5;124mAge cannot be negative\u001b[39m\u001b[38;5;124m\"\u001b[39m)\n\u001b[1;32m     13\u001b[0m     \u001b[38;5;124;03m\"\"\"In this example, if the age variable is negative, a ValueError exception is raised with the custom error message \"Age cannot be negative\".\"\"\"\u001b[39;00m\n",
      "\u001b[0;31mValueError\u001b[0m: Age cannot be negative"
     ]
    }
   ],
   "source": [
    "#c. raise\n",
    "\n",
    "\"\"\"raise is a built-in function in Python that is used to raise an exception explicitly. \n",
    "When an error occurs during the execution of a program, Python automatically raises an exception, but in some cases, you may want to raise an exception yourself. \n",
    "This is where the raise function comes in.\"\"\"\n",
    "\n",
    "#Example of how to use the raise function to raise a ValueError exception with a custom error message:\n",
    "\n",
    "age = -5\n",
    "if age < 0:\n",
    "    raise ValueError(\"Age cannot be negative\")\n",
    "    \n",
    "    \"\"\"In this example, if the age variable is negative, a ValueError exception is raised with the custom error message \"Age cannot be negative\".\"\"\""
   ]
  },
  {
   "cell_type": "code",
   "execution_count": null,
   "id": "0521cba9-5ae5-438a-8b30-790bd58029db",
   "metadata": {},
   "outputs": [],
   "source": [
    "\"\"\"We can also use the raise function to re-raise an exception that was caught earlier. \n",
    "This is useful when you want to propagate an exception up the call stack without handling it.\"\"\"\n",
    "\n",
    "try:\n",
    "    # Some code that may raise an exception\n",
    "except Exception as e:\n",
    "    # Handle the exception\n",
    "    raise e  # Re-raise the exception\n",
    "\n",
    "    \"\"\"In this example, an exception is caught in the except block and handled appropriately. \n",
    "    However, instead of suppressing the exception, it is re-raised using the raise function. \n",
    "    This allows the exception to propagate up the call stack, where it can be handled by another part of the program.\"\"\""
   ]
  },
  {
   "cell_type": "code",
   "execution_count": 11,
   "id": "7d7195a3-c22c-4bf7-9322-e171398e8696",
   "metadata": {},
   "outputs": [],
   "source": [
    "#Q5.what are custom exceptions in python? why do we need custom exceptions? explain.\n",
    "\n",
    "#Ans-\n",
    "\n",
    "\"\"\"Custom exceptions in Python are user-defined exceptions that are created by inheriting from the built-in Exception class or one of its subclasses. \n",
    "By creating custom exceptions, you can define your own error conditions and raise exceptions that are specific to your program's requirements.\"\"\"\n",
    "\n",
    "#Example of how a custom exception can be used in a program:\n",
    "\n",
    "class NegativeNumberError(ValueError):\n",
    "    pass\n",
    "\n",
    "def calculate_square_root(num):\n",
    "    if num < 0:\n",
    "        raise NegativeNumberError(\"Cannot calculate square root of a negative number\")\n",
    "    else:\n",
    "        return num ** 0.5\n",
    "    \n",
    "    \"\"\"In this example, a custom exception named NegativeNumberError is defined by inheriting from the built-in ValueError class. \n",
    "    This exception is raised when the input to the calculate_square_root function is negative. \n",
    "    By defining a custom exception, we can provide more context-specific information about the error and handle it differently from other exceptions that may be raised in the program.\"\"\""
   ]
  },
  {
   "cell_type": "code",
   "execution_count": null,
   "id": "217c3c06-5207-4504-addc-f1ff43373109",
   "metadata": {},
   "outputs": [],
   "source": [
    "-Why do we need Custom Exception:\n",
    "\n",
    "We need custom exceptions for the following reasons:\n",
    "\n",
    "1. Custom exceptions allow you to define your own error conditions that are specific to your program's requirements. \n",
    "   This can make it easier to understand and debug errors when they occur.\n",
    "\n",
    "2. Custom exceptions can provide more detailed error messages that include information about the error's context, making it easier to identify and fix the problem.\n",
    "\n",
    "3. Custom exceptions can be used to create a hierarchy of exceptions that allows you to handle different types of errors differently. \n",
    "   For example, you might create a custom exception that represents a network error and a separate exception for a file I/O error."
   ]
  },
  {
   "cell_type": "code",
   "execution_count": 15,
   "id": "0008f34e-5618-455c-a347-2d8f499af775",
   "metadata": {},
   "outputs": [
    {
     "name": "stdout",
     "output_type": "stream",
     "text": [
      "Invalid Name Error: Name should only contain alphabets\n"
     ]
    }
   ],
   "source": [
    "#Q6. Create a custom exception class. Use this class to handle an exception.\n",
    "\n",
    "#Ans-\n",
    "\n",
    "class InvalidNameError(Exception):\n",
    "    \"\"\"Raised when the name entered is invalid\"\"\"\n",
    "    pass\n",
    "\n",
    "def greet(name):\n",
    "    if not name.isalpha():\n",
    "        raise InvalidNameError(\"Name should only contain alphabets\")\n",
    "    else:\n",
    "        print(f\"Hello, {name}!\")\n",
    "\n",
    "try:\n",
    "    greet(\"Aman123\")\n",
    "except InvalidNameError as e:\n",
    "    print(f\"Invalid Name Error: {str(e)}\")\n"
   ]
  },
  {
   "cell_type": "code",
   "execution_count": null,
   "id": "979cf72e-015e-41ac-aa3a-570a4b7cce21",
   "metadata": {},
   "outputs": [],
   "source": [
    "In this example, we define a custom exception class InvalidNameError that inherits from the built-in Exception class. \n",
    "The greet function takes a name argument and checks if it only contains alphabets. \n",
    "If it doesn't, it raises an InvalidNameError with a custom error message. Otherwise, it prints a greeting message.\n",
    "\n",
    "We then use a try-except block to handle the InvalidNameError exception that may be raised by the greet function. \n",
    "If the exception is raised, the error message is printed to the console. Otherwise, the greeting message is printed."
   ]
  }
 ],
 "metadata": {
  "kernelspec": {
   "display_name": "Python 3 (ipykernel)",
   "language": "python",
   "name": "python3"
  },
  "language_info": {
   "codemirror_mode": {
    "name": "ipython",
    "version": 3
   },
   "file_extension": ".py",
   "mimetype": "text/x-python",
   "name": "python",
   "nbconvert_exporter": "python",
   "pygments_lexer": "ipython3",
   "version": "3.10.8"
  }
 },
 "nbformat": 4,
 "nbformat_minor": 5
}
